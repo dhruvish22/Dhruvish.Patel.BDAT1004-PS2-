{
 "cells": [
  {
   "cell_type": "markdown",
   "id": "70fa0255",
   "metadata": {},
   "source": [
    "Q-1"
   ]
  },
  {
   "cell_type": "code",
   "execution_count": 1,
   "id": "6902a22f",
   "metadata": {},
   "outputs": [],
   "source": [
    "a = 0\n",
    "def b():\n",
    " global a  # all the references to a in b() are to be in global a\n",
    " a = c(a)  # function c is caled with value of 0 and the value is stored in a\n",
    "   \n",
    "    def c(a):  # global variable a is called here\n",
    " return a + 2  # this has global scope"
   ]
  },
  {
   "cell_type": "code",
   "execution_count": 2,
   "id": "b4cb3256",
   "metadata": {},
   "outputs": [
    {
     "data": {
      "text/plain": [
       "6"
      ]
     },
     "execution_count": 2,
     "metadata": {},
     "output_type": "execute_result"
    }
   ],
   "source": [
    ">>> b()  # the value of a is 2 (0+2)\n",
    ">>> b()  # the value of a is 4 (2+2)\n",
    ">>> b()  # the value of a is 6 (4+2)\n",
    ">>> a"
   ]
  },
  {
   "cell_type": "markdown",
   "id": "d964bc83",
   "metadata": {},
   "source": [
    "Q-2"
   ]
  },
  {
   "cell_type": "code",
   "execution_count": 3,
   "id": "497ba4b4",
   "metadata": {},
   "outputs": [
    {
     "name": "stdout",
     "output_type": "stream",
     "text": [
      "File auto.py not found.\n",
      "File midterm.py not found.\n"
     ]
    }
   ],
   "source": [
    "def file_length(file_name):\n",
    "    try:\n",
    "        file = open(file_name)\n",
    "        contents = file.read()\n",
    "        file.close()\n",
    "        print(len(contents))\n",
    "    \n",
    "    except:\n",
    "        print('File {} not found.'.format(file_name))\n",
    "        \n",
    "file_name = 'auto.py'\n",
    "file_length(file_name)\n",
    "\n",
    "file_name = 'midterm.py'\n",
    "file_length(file_name)\n"
   ]
  },
  {
   "cell_type": "markdown",
   "id": "835273a4",
   "metadata": {},
   "source": [
    "Q-3"
   ]
  },
  {
   "cell_type": "code",
   "execution_count": 14,
   "id": "db380380",
   "metadata": {},
   "outputs": [
    {
     "ename": "SyntaxError",
     "evalue": "invalid syntax (132269994.py, line 21)",
     "output_type": "error",
     "traceback": [
      "\u001b[1;36m  Input \u001b[1;32mIn [14]\u001b[1;36m\u001b[0m\n\u001b[1;33m    retrun \"I am kangaroo located at coordinates (\"+str(self.x)\",\"+str(self.y)\")\u001b[0m\n\u001b[1;37m           ^\u001b[0m\n\u001b[1;31mSyntaxError\u001b[0m\u001b[1;31m:\u001b[0m invalid syntax\n"
     ]
    }
   ],
   "source": [
    "class marsupial:\n",
    "    \n",
    "    def __init__(self):\n",
    "        self.pouch=[]\n",
    "        \n",
    "    def put_in_pouch(self, item):\n",
    "        self.pouch.append(item)\n",
    "\n",
    "\n"
   ]
  },
  {
   "cell_type": "markdown",
   "id": "88cc7d69",
   "metadata": {},
   "source": [
    "Q-4"
   ]
  },
  {
   "cell_type": "code",
   "execution_count": 15,
   "id": "4e8fe478",
   "metadata": {},
   "outputs": [
    {
     "name": "stdout",
     "output_type": "stream",
     "text": [
      "enter a positive number: 1\n",
      "1\n"
     ]
    }
   ],
   "source": [
    "def collatz(x):\n",
    "    if (x == 1):\n",
    "        print(1)\n",
    "        \n",
    "    elif (x < 1):\n",
    "        print(\"enter any positive number\")\n",
    "        \n",
    "    elif (x % 2 == 0):\n",
    "        print(int(x))\n",
    "        x = x/2\n",
    "        collatz(x)\n",
    "        \n",
    "    else:\n",
    "        print(int(x))\n",
    "        x = (x*3) + 1\n",
    "        collatz(x)\n",
    "        \n",
    "x = int(input(\"enter a positive number: \"))\n",
    "collatz(x)"
   ]
  },
  {
   "cell_type": "markdown",
   "id": "279bd3c5",
   "metadata": {},
   "source": [
    "Q-4(b)"
   ]
  },
  {
   "cell_type": "code",
   "execution_count": 16,
   "id": "d94c6235",
   "metadata": {},
   "outputs": [
    {
     "name": "stdout",
     "output_type": "stream",
     "text": [
      "enter a positive number: 10\n",
      "10\n",
      "5\n",
      "16\n",
      "8\n",
      "4\n",
      "2\n",
      "1\n"
     ]
    }
   ],
   "source": [
    "def collatz(x):\n",
    "    if (x == 1):\n",
    "        print(1)\n",
    "        \n",
    "    elif (x < 1):\n",
    "        print(\"enter any positive number\")\n",
    "        \n",
    "    elif (x % 2 == 0):\n",
    "        print(int(x))\n",
    "        x = x/2\n",
    "        collatz(x)\n",
    "        \n",
    "    else:\n",
    "        print(int(x))\n",
    "        x = (x*3) + 1\n",
    "        collatz(x)\n",
    "        \n",
    "x = int(input(\"enter a positive number: \"))\n",
    "collatz(x)"
   ]
  },
  {
   "cell_type": "markdown",
   "id": "a3c88c44",
   "metadata": {},
   "source": [
    "Q-5"
   ]
  },
  {
   "cell_type": "code",
   "execution_count": 17,
   "id": "1ffdd972",
   "metadata": {},
   "outputs": [
    {
     "name": "stdout",
     "output_type": "stream",
     "text": [
      "0"
     ]
    }
   ],
   "source": [
    "def binary(n):\n",
    "   if n > 1:\n",
    "       binary(n//2)\n",
    "   print(n % 2,end = '')\n",
    "binary(0)"
   ]
  },
  {
   "cell_type": "code",
   "execution_count": 18,
   "id": "7c241429",
   "metadata": {},
   "outputs": [
    {
     "name": "stdout",
     "output_type": "stream",
     "text": [
      "1"
     ]
    }
   ],
   "source": [
    "binary(1)"
   ]
  },
  {
   "cell_type": "code",
   "execution_count": 19,
   "id": "8440157b",
   "metadata": {},
   "outputs": [
    {
     "name": "stdout",
     "output_type": "stream",
     "text": [
      "11"
     ]
    }
   ],
   "source": [
    "binary(3)"
   ]
  },
  {
   "cell_type": "code",
   "execution_count": 20,
   "id": "03c1eea3",
   "metadata": {},
   "outputs": [
    {
     "name": "stdout",
     "output_type": "stream",
     "text": [
      "1001"
     ]
    }
   ],
   "source": [
    "binary(9)"
   ]
  },
  {
   "cell_type": "markdown",
   "id": "ebdb5d3a",
   "metadata": {},
   "source": [
    "Q-6"
   ]
  },
  {
   "cell_type": "code",
   "execution_count": 25,
   "id": "95481451",
   "metadata": {},
   "outputs": [
    {
     "name": "stdout",
     "output_type": "stream",
     "text": [
      "W3C Mission\n",
      " Principles\n"
     ]
    }
   ],
   "source": [
    "from html.parser import HTMLParser\n",
    "\n",
    "\n",
    "class HeadingParser(HTMLParser):\n",
    "\n",
    "    c = 0      \n",
    "    i = 0     \n",
    "    \n",
    "    def handle_starttag(self, tag, attrs):\n",
    "        if tag in ['h1', 'h2', 'h3', 'h4', 'h5', 'h6']:\n",
    "            self.c = 1                     \n",
    "\n",
    "    def handle_data(self, data):\n",
    "         if self.c == 1:\n",
    "            print(data.rjust(len(data) + self.i), end ='\\n') \n",
    "    def handle_endtag(self, tag):\n",
    "        if tag in ['h1', 'h2', 'h3', 'h4', 'h5', 'h6', 'h7', 'h8', 'h9']:\n",
    "            self.c = 0                    \n",
    "            self.i +=1   \n",
    "\n",
    "infile = open(\"w3c.html\")\n",
    "content = infile.read()\n",
    "infile.close()\n",
    "hp = HeadingParser()\n",
    "hp.feed(content)\n"
   ]
  },
  {
   "cell_type": "markdown",
   "id": "623046f6",
   "metadata": {},
   "source": [
    "Q-8"
   ]
  },
  {
   "cell_type": "code",
   "execution_count": 28,
   "id": "8ced0f17",
   "metadata": {},
   "outputs": [
    {
     "data": {
      "text/plain": [
       "[('Mumbai', 'India', 'Winter', 24.8, 5.9),\n",
       " ('Mumbai', 'India', 'Spring', 28.4, 16.2),\n",
       " ('Mumbai', 'India', 'Summer', 27.9, 1549.4),\n",
       " ('Mumbai', 'India', 'Fall', 27.6, 346.0),\n",
       " ('London', 'United Kindom', 'Winter', 4.2, 207.7),\n",
       " ('London', 'United Kindom', 'Spring', 8.3, 169.6),\n",
       " ('London', 'United Kindom', 'Summer', 15.7, 157.0),\n",
       " ('London', 'United Kindom', 'Fall', 10.4, 218.5),\n",
       " ('Cairo', 'Egypt', 'Winter', 13.6, 16.5),\n",
       " ('Cairo', 'Egypt', 'Spring', 20.7, 6.5),\n",
       " ('Cairo', 'Egypt', 'Summer', 27.7, 0.1),\n",
       " ('Cairo', 'Egypt', 'Fall', 22.2, 4.5)]"
      ]
     },
     "execution_count": 28,
     "metadata": {},
     "output_type": "execute_result"
    }
   ],
   "source": [
    "import sqlite3\n",
    "con = sqlite3.connect('cInfo.db')\n",
    "cur = con.cursor()\n",
    "cur.execute(\"CREATE TABLE IF NOT EXISTS cityInfo (City text, Country text, Season text, Temperature double, Rainfall double)\")\n",
    "cur.execute(\"INSERT INTO cityInfo VALUES ('Mumbai', 'India', 'Winter', 24.8, 5.9), ('Mumbai','India', 'Spring', 28.4, 16.2), ('Mumbai','India', 'Summer', 27.9, 1549.4), ('Mumbai','India', 'Fall', 27.6, 346.0)\")\n",
    "cur.execute(\"INSERT INTO cityInfo VALUES ('London', 'United Kindom', 'Winter', 4.2, 207.7), ('London', 'United Kindom', 'Spring', 8.3, 169.6), ('London', 'United Kindom', 'Summer', 15.7, 157.0), ('London', 'United Kindom', 'Fall', 10.4, 218.5)\")\n",
    "cur.execute(\"INSERT INTO cityInfo VALUES ('Cairo', 'Egypt', 'Winter', 13.6, 16.5), ('Cairo', 'Egypt', 'Spring', 20.7, 6.5), ('Cairo', 'Egypt', 'Summer', 27.7, 0.1), ('Cairo', 'Egypt', 'Fall', 22.2, 4.5)\")\n",
    "\n",
    "cur.execute('SELECT * FROM cityInfo')\n",
    "cur.fetchall()\n"
   ]
  },
  {
   "cell_type": "markdown",
   "id": "6e2aa775",
   "metadata": {},
   "source": [
    "Temprature data"
   ]
  },
  {
   "cell_type": "code",
   "execution_count": 29,
   "id": "1a5b27ed",
   "metadata": {},
   "outputs": [
    {
     "data": {
      "text/plain": [
       "[(24.8,),\n",
       " (28.4,),\n",
       " (27.9,),\n",
       " (27.6,),\n",
       " (4.2,),\n",
       " (8.3,),\n",
       " (15.7,),\n",
       " (10.4,),\n",
       " (13.6,),\n",
       " (20.7,),\n",
       " (27.7,),\n",
       " (22.2,)]"
      ]
     },
     "execution_count": 29,
     "metadata": {},
     "output_type": "execute_result"
    }
   ],
   "source": [
    "cur.execute('SELECT Temperature FROM cityInfo')\n",
    "cur.fetchall()\n"
   ]
  },
  {
   "cell_type": "markdown",
   "id": "eb8ec519",
   "metadata": {},
   "source": [
    "Cities without repitition"
   ]
  },
  {
   "cell_type": "code",
   "execution_count": 30,
   "id": "0113809b",
   "metadata": {},
   "outputs": [
    {
     "data": {
      "text/plain": [
       "[('Mumbai',), ('London',), ('Cairo',)]"
      ]
     },
     "execution_count": 30,
     "metadata": {},
     "output_type": "execute_result"
    }
   ],
   "source": [
    "cur.execute('SELECT DISTINCT(City) FROM cityInfo')\n",
    "cur.fetchall()\n"
   ]
  },
  {
   "cell_type": "markdown",
   "id": "388a2190",
   "metadata": {},
   "source": [
    "Records for India"
   ]
  },
  {
   "cell_type": "code",
   "execution_count": 31,
   "id": "94ba25ab",
   "metadata": {},
   "outputs": [
    {
     "data": {
      "text/plain": [
       "[('Mumbai', 'India', 'Winter', 24.8, 5.9),\n",
       " ('Mumbai', 'India', 'Spring', 28.4, 16.2),\n",
       " ('Mumbai', 'India', 'Summer', 27.9, 1549.4),\n",
       " ('Mumbai', 'India', 'Fall', 27.6, 346.0)]"
      ]
     },
     "execution_count": 31,
     "metadata": {},
     "output_type": "execute_result"
    }
   ],
   "source": [
    "cur.execute('SELECT * FROM cityInfo where Country = \"India\"')\n",
    "cur.fetchall()\n"
   ]
  },
  {
   "cell_type": "markdown",
   "id": "23dc471f",
   "metadata": {},
   "source": [
    "All the fall records"
   ]
  },
  {
   "cell_type": "code",
   "execution_count": 32,
   "id": "04223501",
   "metadata": {},
   "outputs": [
    {
     "data": {
      "text/plain": [
       "[('Mumbai', 'India', 'Fall', 27.6, 346.0),\n",
       " ('London', 'United Kindom', 'Fall', 10.4, 218.5),\n",
       " ('Cairo', 'Egypt', 'Fall', 22.2, 4.5)]"
      ]
     },
     "execution_count": 32,
     "metadata": {},
     "output_type": "execute_result"
    }
   ],
   "source": [
    "cur.execute('SELECT * from cityInfo where Season=\"Fall\"')\n",
    "cur.fetchall()\n"
   ]
  },
  {
   "cell_type": "markdown",
   "id": "e68a59fa",
   "metadata": {},
   "source": [
    "Avg rainfall between 200 to 400 mm"
   ]
  },
  {
   "cell_type": "code",
   "execution_count": 33,
   "id": "e68b3dca",
   "metadata": {},
   "outputs": [
    {
     "data": {
      "text/plain": [
       "[('London', 'United Kindom', 'Fall', 218.5),\n",
       " ('London', 'United Kindom', 'Winter', 207.7),\n",
       " ('Mumbai', 'India', 'Fall', 346.0)]"
      ]
     },
     "execution_count": 33,
     "metadata": {},
     "output_type": "execute_result"
    }
   ],
   "source": [
    "cur.execute('SELECT City,Country,Season, AVG(Rainfall) FROM cityInfo GROUP BY City, Country, Season having AVG(Rainfall)>200 and AVG(Rainfall)<400 ')\n",
    "cur.fetchall()\n"
   ]
  },
  {
   "cell_type": "markdown",
   "id": "c845758d",
   "metadata": {},
   "source": [
    "Avg fall temprature is above 20 degree, in increasing order"
   ]
  },
  {
   "cell_type": "code",
   "execution_count": 34,
   "id": "e719ec7c",
   "metadata": {},
   "outputs": [
    {
     "data": {
      "text/plain": [
       "[('Cairo', 'Egypt', 23.53333333333333),\n",
       " ('Mumbai', 'India', 27.174999999999997)]"
      ]
     },
     "execution_count": 34,
     "metadata": {},
     "output_type": "execute_result"
    }
   ],
   "source": [
    "cur.execute('SELECT City, Country, AVG(Temperature) FROM cityInfo where Temperature > 20 GROUP BY City, Country HAVING AVG(Temperature) > 20 ORDER By Temperature ASC')\n",
    "cur.fetchall()\n"
   ]
  },
  {
   "cell_type": "markdown",
   "id": "8192b35f",
   "metadata": {},
   "source": [
    "Total annual rainfall for cairo"
   ]
  },
  {
   "cell_type": "code",
   "execution_count": 35,
   "id": "9f21bf7e",
   "metadata": {},
   "outputs": [
    {
     "data": {
      "text/plain": [
       "[(27.6,)]"
      ]
     },
     "execution_count": 35,
     "metadata": {},
     "output_type": "execute_result"
    }
   ],
   "source": [
    "cur.execute('SELECT SUM(Rainfall) FROM cityInfo WHERE City = \"Cairo\"')\n",
    "cur.fetchall()\n"
   ]
  },
  {
   "cell_type": "markdown",
   "id": "606fc139",
   "metadata": {},
   "source": [
    "Total rainfall for each season"
   ]
  },
  {
   "cell_type": "code",
   "execution_count": 36,
   "id": "4dbc1bc2",
   "metadata": {},
   "outputs": [
    {
     "data": {
      "text/plain": [
       "[('Fall', 569.0),\n",
       " ('Spring', 192.29999999999998),\n",
       " ('Summer', 1706.5),\n",
       " ('Winter', 230.1)]"
      ]
     },
     "execution_count": 36,
     "metadata": {},
     "output_type": "execute_result"
    }
   ],
   "source": [
    "cur.execute('SELECT Season, SUM(Rainfall) FROM cityInfo GROUP BY Season')\n",
    "cur.fetchall()\n"
   ]
  },
  {
   "cell_type": "markdown",
   "id": "bb765276",
   "metadata": {},
   "source": [
    "Q-9"
   ]
  },
  {
   "cell_type": "code",
   "execution_count": 37,
   "id": "ebdb75a5",
   "metadata": {},
   "outputs": [
    {
     "name": "stdout",
     "output_type": "stream",
     "text": [
      "['THE', 'QUICK', 'BROWN', 'FOX', 'JUMPS', 'OVER', 'THE', 'LAZY', 'DOG']\n",
      "['the', 'quick', 'brown', 'fox', 'jumps', 'over', 'the', 'lazy', 'dog']\n",
      "[3, 5, 5, 3, 5, 4, 3, 4, 3]\n",
      "[['THE', 'the', 3], ['QUICK', 'quick', 5], ['BROWN', 'brown', 5], ['FOX', 'fox', 3], ['JUMPS', 'jumps', 5], ['OVER', 'over', 4], ['THE', 'the', 3], ['LAZY', 'lazy', 4], ['DOG', 'dog', 3]]\n",
      "['quick', 'brown', 'jumps', 'over', 'lazy']\n"
     ]
    }
   ],
   "source": [
    "words = ['The', 'quick', 'brown', 'fox', 'jumps', 'over', 'the', 'lazy', 'dog']\n",
    "words_upper = [item.upper() for item in words]\n",
    "print (words_upper)\n",
    "words_lower = [item.lower() for item in words]\n",
    "print (words_lower)\n",
    "word_len = [len(item) for item in words]\n",
    "print(word_len)\n",
    "list_of_all = [[x, y , z] for x, y, z in zip(words_upper,words_lower,word_len)]\n",
    "print (list_of_all)\n",
    "words_four = []\n",
    "[words_four.append(item) for item in words if len(item)>=4]\n",
    "print (words_four)\n"
   ]
  },
  {
   "cell_type": "code",
   "execution_count": null,
   "id": "358c7c43",
   "metadata": {},
   "outputs": [],
   "source": []
  }
 ],
 "metadata": {
  "kernelspec": {
   "display_name": "Python 3 (ipykernel)",
   "language": "python",
   "name": "python3"
  },
  "language_info": {
   "codemirror_mode": {
    "name": "ipython",
    "version": 3
   },
   "file_extension": ".py",
   "mimetype": "text/x-python",
   "name": "python",
   "nbconvert_exporter": "python",
   "pygments_lexer": "ipython3",
   "version": "3.9.12"
  }
 },
 "nbformat": 4,
 "nbformat_minor": 5
}
